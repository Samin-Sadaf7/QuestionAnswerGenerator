{
  "nbformat": 4,
  "nbformat_minor": 0,
  "metadata": {
    "colab": {
      "provenance": [],
      "authorship_tag": "ABX9TyNSjrqYjFHY1WsUgqxQFypF",
      "include_colab_link": true
    },
    "kernelspec": {
      "name": "python3",
      "display_name": "Python 3"
    },
    "language_info": {
      "name": "python"
    }
  },
  "cells": [
    {
      "cell_type": "markdown",
      "metadata": {
        "id": "view-in-github",
        "colab_type": "text"
      },
      "source": [
        "<a href=\"https://colab.research.google.com/github/Samin-Sadaf7/QuestionAnswerGenerator/blob/main/TopicDatabase_and_Further.ipynb\" target=\"_parent\"><img src=\"https://colab.research.google.com/assets/colab-badge.svg\" alt=\"Open In Colab\"/></a>"
      ]
    },
    {
      "cell_type": "code",
      "execution_count": 1,
      "metadata": {
        "colab": {
          "base_uri": "https://localhost:8080/"
        },
        "id": "iA4RME6HqVGO",
        "outputId": "c9f3465d-2358-4254-a132-1ba752bf3035"
      },
      "outputs": [
        {
          "output_type": "stream",
          "name": "stdout",
          "text": [
            "Mounted at /content/gdrive\n"
          ]
        }
      ],
      "source": [
        "from google.colab import drive\n",
        "drive.mount('/content/gdrive')"
      ]
    },
    {
      "cell_type": "code",
      "source": [
        "!pip install --quiet pandas pymongo sentence_transformers transformers accelerate"
      ],
      "metadata": {
        "colab": {
          "base_uri": "https://localhost:8080/"
        },
        "id": "nmW33doDqibJ",
        "outputId": "2afc8132-ce5d-4724-8543-f6927f02ceb7"
      },
      "execution_count": 2,
      "outputs": [
        {
          "output_type": "stream",
          "name": "stdout",
          "text": [
            "\u001b[2K     \u001b[90m━━━━━━━━━━━━━━━━━━━━━━━━━━━━━━━━━━━━━━━━\u001b[0m \u001b[32m1.2/1.2 MB\u001b[0m \u001b[31m11.5 MB/s\u001b[0m eta \u001b[36m0:00:00\u001b[0m\n",
            "\u001b[2K     \u001b[90m━━━━━━━━━━━━━━━━━━━━━━━━━━━━━━━━━━━━━━━━\u001b[0m \u001b[32m227.1/227.1 kB\u001b[0m \u001b[31m26.5 MB/s\u001b[0m eta \u001b[36m0:00:00\u001b[0m\n",
            "\u001b[2K     \u001b[90m━━━━━━━━━━━━━━━━━━━━━━━━━━━━━━━━━━━━━━━━\u001b[0m \u001b[32m314.1/314.1 kB\u001b[0m \u001b[31m29.8 MB/s\u001b[0m eta \u001b[36m0:00:00\u001b[0m\n",
            "\u001b[2K     \u001b[90m━━━━━━━━━━━━━━━━━━━━━━━━━━━━━━━━━━━━━━━━\u001b[0m \u001b[32m307.7/307.7 kB\u001b[0m \u001b[31m32.4 MB/s\u001b[0m eta \u001b[36m0:00:00\u001b[0m\n",
            "\u001b[2K     \u001b[90m━━━━━━━━━━━━━━━━━━━━━━━━━━━━━━━━━━━━━━━━\u001b[0m \u001b[32m21.3/21.3 MB\u001b[0m \u001b[31m59.9 MB/s\u001b[0m eta \u001b[36m0:00:00\u001b[0m\n",
            "\u001b[?25h"
          ]
        }
      ]
    },
    {
      "cell_type": "code",
      "source": [
        "!python -m pip install \"pymongo[srv]\""
      ],
      "metadata": {
        "colab": {
          "base_uri": "https://localhost:8080/"
        },
        "id": "EnZkfwCCq1pp",
        "outputId": "475508f2-b935-4bd0-9036-fd4f6adb15d5"
      },
      "execution_count": 3,
      "outputs": [
        {
          "output_type": "stream",
          "name": "stdout",
          "text": [
            "Requirement already satisfied: pymongo[srv] in /usr/local/lib/python3.10/dist-packages (4.8.0)\n",
            "\u001b[33mWARNING: pymongo 4.8.0 does not provide the extra 'srv'\u001b[0m\u001b[33m\n",
            "\u001b[0mRequirement already satisfied: dnspython<3.0.0,>=1.16.0 in /usr/local/lib/python3.10/dist-packages (from pymongo[srv]) (2.6.1)\n"
          ]
        }
      ]
    },
    {
      "cell_type": "code",
      "source": [
        "import pandas as pd"
      ],
      "metadata": {
        "id": "gHOhr3u_q6Yu"
      },
      "execution_count": 4,
      "outputs": []
    },
    {
      "cell_type": "code",
      "source": [
        "from pymongo.mongo_client import MongoClient\n",
        "from pymongo.server_api import ServerApi\n",
        "from google.colab import userdata\n",
        "\n",
        "uri = userdata.get('MongoDB_URL')\n",
        "\n",
        "# Create a new client and connect to the server\n",
        "client = MongoClient(uri, server_api=ServerApi('1'))\n",
        "\n",
        "# Send a ping to confirm a successful connection\n",
        "try:\n",
        "    client.admin.command('ping')\n",
        "    print(\"Pinged your deployment. You successfully connected to MongoDB!\")\n",
        "except Exception as e:\n",
        "    print(e)"
      ],
      "metadata": {
        "colab": {
          "base_uri": "https://localhost:8080/"
        },
        "id": "evBPU4nhrFyQ",
        "outputId": "73000421-5ca1-44bc-db41-bcda2c88f2e1"
      },
      "execution_count": 5,
      "outputs": [
        {
          "output_type": "stream",
          "name": "stdout",
          "text": [
            "Pinged your deployment. You successfully connected to MongoDB!\n"
          ]
        }
      ]
    },
    {
      "cell_type": "code",
      "source": [
        "db = client['RAG_application']"
      ],
      "metadata": {
        "id": "t4SmEUrgrGF4"
      },
      "execution_count": 6,
      "outputs": []
    },
    {
      "cell_type": "code",
      "source": [
        "from pymongo import MongoClient\n",
        "from pymongo.errors import CollectionInvalid\n",
        "\n",
        "# Define the collection name\n",
        "topic_name = 'topic'\n",
        "\n",
        "# Define the question schema\n",
        "topic_schema = {\n",
        "    'prof': {\n",
        "        'type': 'string',\n",
        "        'required': True,\n",
        "    },\n",
        "    'term':{\n",
        "        'type': 'string',\n",
        "    },\n",
        "    'subject': {\n",
        "        'type': 'string',\n",
        "        'required': True,\n",
        "    },\n",
        "    'card': {\n",
        "        'type': 'string',\n",
        "        'required': True,\n",
        "    },\n",
        "    'topic': {\n",
        "        'type': 'string',\n",
        "        'required': True,\n",
        "    },\n",
        "    'subTopic': {\n",
        "        'type': 'string',\n",
        "    }\n",
        "}\n",
        "\n",
        "# Initialize the validator\n",
        "validator = {\n",
        "    '$jsonSchema': {\n",
        "        'bsonType': 'object',\n",
        "        'properties': {}\n",
        "    }\n",
        "}\n",
        "\n",
        "required = []\n",
        "\n",
        "def process_field(field_key, field, parent_required, parent_properties):\n",
        "    properties = {'bsonType': field['type']}\n",
        "    if 'min_length' in field:\n",
        "        properties['minLength'] = field['min_length']\n",
        "    if 'required' in field and field['required']:\n",
        "        parent_required.append(field_key)\n",
        "    parent_properties[field_key] = properties\n",
        "\n",
        "for field_key, field in topic_schema.items():\n",
        "    process_field(field_key, field, required, validator['$jsonSchema']['properties'])\n",
        "\n",
        "if required:\n",
        "    validator['$jsonSchema']['required'] = required\n",
        "\n",
        "\n",
        "# Create the collection with the validator\n",
        "try:\n",
        "    db.create_collection(topic_name, validator=validator)\n",
        "    print(f\"Collection '{topic_name}' created with validator.\")\n",
        "except CollectionInvalid:\n",
        "    print(f\"Collection '{topic_name}' already exists or validation failed.\")\n",
        "\n",
        "print(validator)"
      ],
      "metadata": {
        "colab": {
          "base_uri": "https://localhost:8080/"
        },
        "id": "HQor8RlArNNO",
        "outputId": "deeaa3c5-f918-4d6e-8cb9-a9f92945546a"
      },
      "execution_count": 26,
      "outputs": [
        {
          "output_type": "stream",
          "name": "stdout",
          "text": [
            "Collection 'topic' created with validator.\n",
            "{'$jsonSchema': {'bsonType': 'object', 'properties': {'prof': {'bsonType': 'string'}, 'term': {'bsonType': 'string'}, 'subject': {'bsonType': 'string'}, 'card': {'bsonType': 'string'}, 'topic': {'bsonType': 'string'}, 'subTopic': {'bsonType': 'string'}}, 'required': ['prof', 'subject', 'card', 'topic']}}\n"
          ]
        }
      ]
    },
    {
      "cell_type": "code",
      "source": [
        "topics_csv= pd.read_csv('/content/gdrive/MyDrive/AI_integration_kernel/MediBee_MBBS_AI/all_topics.csv')"
      ],
      "metadata": {
        "id": "qxBDqza7rN3T"
      },
      "execution_count": 27,
      "outputs": []
    },
    {
      "cell_type": "code",
      "source": [
        "topics_df = pd.DataFrame(topics_csv)"
      ],
      "metadata": {
        "id": "c0c2EcRQrdvn"
      },
      "execution_count": 28,
      "outputs": []
    },
    {
      "cell_type": "code",
      "source": [
        "topics_df.columns"
      ],
      "metadata": {
        "colab": {
          "base_uri": "https://localhost:8080/"
        },
        "id": "tO9TgsHhs9J6",
        "outputId": "5bb846aa-d5b3-4614-a0e6-96e8992c2e0a"
      },
      "execution_count": 29,
      "outputs": [
        {
          "output_type": "execute_result",
          "data": {
            "text/plain": [
              "Index(['prof', 'subject', 'card', 'topic', 'subTopic'], dtype='object')"
            ]
          },
          "metadata": {},
          "execution_count": 29
        }
      ]
    },
    {
      "cell_type": "code",
      "source": [
        "topic_documents = topics_df.to_dict('records')"
      ],
      "metadata": {
        "id": "-B8wM7lVtACI"
      },
      "execution_count": 30,
      "outputs": []
    },
    {
      "cell_type": "code",
      "source": [
        "topic_documents"
      ],
      "metadata": {
        "id": "RQ9C2YAHtKFd"
      },
      "execution_count": null,
      "outputs": []
    },
    {
      "cell_type": "code",
      "source": [
        "db.list_collection_names()"
      ],
      "metadata": {
        "colab": {
          "base_uri": "https://localhost:8080/"
        },
        "id": "HOvDYC_4tLfZ",
        "outputId": "55c23813-618e-4504-bd2e-7fb226c77295"
      },
      "execution_count": 32,
      "outputs": [
        {
          "output_type": "execute_result",
          "data": {
            "text/plain": [
              "['student_collection_updated',\n",
              " 'engi_question_collection',\n",
              " 'topic',\n",
              " 'Medical_Books_RAG',\n",
              " 'question_collection']"
            ]
          },
          "metadata": {},
          "execution_count": 32
        }
      ]
    },
    {
      "cell_type": "code",
      "source": [
        "results = db.topic.insert_many(topic_documents)\n",
        "print(f\"Inserted {len(results.inserted_ids)} documents into the collection.\")"
      ],
      "metadata": {
        "colab": {
          "base_uri": "https://localhost:8080/"
        },
        "id": "r4HDZGPht5hp",
        "outputId": "d3e0d3e1-b91b-4775-dd53-474a3ec70cf6"
      },
      "execution_count": 33,
      "outputs": [
        {
          "output_type": "stream",
          "name": "stdout",
          "text": [
            "Inserted 485 documents into the collection.\n"
          ]
        }
      ]
    }
  ]
}